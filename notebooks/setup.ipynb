{
 "cells": [
  {
   "cell_type": "markdown",
   "metadata": {
    "application/vnd.databricks.v1+cell": {
     "cellMetadata": {},
     "inputWidgets": {},
     "nuid": "a0877fbc-ef39-4e2c-a424-57751fd95bdf",
     "showTitle": false,
     "tableResultSettingsMap": {},
     "title": ""
    }
   },
   "source": [
    "## create UC schema"
   ]
  },
  {
   "cell_type": "code",
   "execution_count": 0,
   "metadata": {
    "application/vnd.databricks.v1+cell": {
     "cellMetadata": {
      "byteLimit": 2048000,
      "implicitDf": true,
      "rowLimit": 10000
     },
     "inputWidgets": {},
     "nuid": "53849be1-1e49-40f9-867f-414ece34292c",
     "showTitle": false,
     "tableResultSettingsMap": {},
     "title": ""
    }
   },
   "outputs": [],
   "source": [
    "%sql\n",
    "CREATE CATALOG IF NOT EXISTS prod_silver;\n",
    "USE CATALOG prod_silver;\n",
    "CREATE SCHEMA IF NOT EXISTS dts_ops;\n",
    "USE SCHEMA dts_ops;"
   ]
  },
  {
   "cell_type": "code",
   "execution_count": 0,
   "metadata": {
    "application/vnd.databricks.v1+cell": {
     "cellMetadata": {
      "byteLimit": 2048000,
      "implicitDf": true,
      "rowLimit": 10000
     },
     "inputWidgets": {},
     "nuid": "984854b4-96ec-42a8-a36e-56635c133702",
     "showTitle": false,
     "tableResultSettingsMap": {},
     "title": ""
    }
   },
   "outputs": [
    {
     "output_type": "stream",
     "name": "stdout",
     "output_type": "stream",
     "text": [
      "CSV Shape: (50, 93)\nColumns: ['active', 'activity_due', 'additional_assignee_list', 'approval', 'approval_history', 'approval_set', 'assigned_to', 'assignment_group', 'business_duration', 'business_service', 'calendar_duration', 'closed_at', 'closed_by', 'close_notes', 'cmdb_ci', 'cmdb_ci_business_app', 'comments', 'comments_and_work_notes', 'company', 'contact_type', 'contract', 'correlation_display', 'correlation_id', 'delivery_plan', 'delivery_task', 'description', 'due_date', 'edw_load_dts', 'edp_load_dts', 'escalation', 'expected_start', 'follow_up', 'group_list', 'impact', 'knowledge', 'location', 'made_sla', 'number', 'opened_at', 'opened_by', 'order', 'parent', 'priority', 'reassignment_count', 'route_reason', 'service_offering', 'short_description', 'skills', 'sla_due', 'sn_esign_document', 'sn_esign_esignature_configuration', 'sn_hr_le_activity', 'state', 'sys_class_name', 'sys_created_by', 'sys_created_on', 'sys_domain', 'sys_domain_path', 'sys_id', 'sys_mod_count', 'sys_tags', 'sys_updated_by', 'sys_updated_on', 'task_effective_number', 'time_worked', 'universal_request', 'upon_approval', 'upon_reject', 'urgency', 'user_input', 'u_change_request', 'u_comment_source', 'u_contact_subtype', 'u_enter_phi', 'u_expense_type', 'u_first_call_resolved', 'u_phi_viewers', 'u_pi_assignment_group', 'u_preferred_contact_method', 'u_preferred_contact_time', 'u_reported_by', 'u_story', 'u_substate', 'u_transferred', 'u_transferred_from', 'u_transferred_to', 'u_unknown_user', 'u_user_not_found', 'watch_list', 'work_end', 'work_notes', 'work_notes_list', 'work_start']\n\nFirst few rows:\n   active activity_due  ...  work_notes_list work_start\n0   False      UNKNOWN  ...              NaN        NaN\n1   False      UNKNOWN  ...              NaN        NaN\n2   False      UNKNOWN  ...              NaN        NaN\n3   False      UNKNOWN  ...              NaN        NaN\n4   False      UNKNOWN  ...              NaN        NaN\n\n[5 rows x 93 columns]\n\nSpark DataFrame Schema:\nroot\n |-- active: boolean (nullable = true)\n |-- activity_due: string (nullable = true)\n |-- additional_assignee_list: double (nullable = true)\n |-- approval: string (nullable = true)\n |-- approval_history: double (nullable = true)\n |-- approval_set: double (nullable = true)\n |-- assigned_to: string (nullable = true)\n |-- assignment_group: string (nullable = true)\n |-- business_duration: string (nullable = true)\n |-- business_service: string (nullable = true)\n |-- calendar_duration: string (nullable = true)\n |-- closed_at: string (nullable = true)\n |-- closed_by: string (nullable = true)\n |-- close_notes: string (nullable = true)\n |-- cmdb_ci: string (nullable = true)\n |-- cmdb_ci_business_app: double (nullable = true)\n |-- comments: string (nullable = true)\n |-- comments_and_work_notes: string (nullable = true)\n |-- company: string (nullable = true)\n |-- contact_type: string (nullable = true)\n |-- contract: double (nullable = true)\n |-- correlation_display: string (nullable = true)\n |-- correlation_id: string (nullable = true)\n |-- delivery_plan: double (nullable = true)\n |-- delivery_task: double (nullable = true)\n |-- description: string (nullable = true)\n |-- due_date: double (nullable = true)\n |-- edw_load_dts: string (nullable = true)\n |-- edp_load_dts: string (nullable = true)\n |-- escalation: string (nullable = true)\n |-- expected_start: double (nullable = true)\n |-- follow_up: double (nullable = true)\n |-- group_list: double (nullable = true)\n |-- impact: string (nullable = true)\n |-- knowledge: boolean (nullable = true)\n |-- location: string (nullable = true)\n |-- made_sla: boolean (nullable = true)\n |-- number: string (nullable = true)\n |-- opened_at: string (nullable = true)\n |-- opened_by: string (nullable = true)\n |-- order: double (nullable = true)\n |-- parent: double (nullable = true)\n |-- priority: string (nullable = true)\n |-- reassignment_count: long (nullable = true)\n |-- route_reason: string (nullable = true)\n |-- service_offering: double (nullable = true)\n |-- short_description: string (nullable = true)\n |-- skills: double (nullable = true)\n |-- sla_due: string (nullable = true)\n |-- sn_esign_document: double (nullable = true)\n |-- sn_esign_esignature_configuration: double (nullable = true)\n |-- sn_hr_le_activity: double (nullable = true)\n |-- state: string (nullable = true)\n |-- sys_class_name: string (nullable = true)\n |-- sys_created_by: string (nullable = true)\n |-- sys_created_on: string (nullable = true)\n |-- sys_domain: string (nullable = true)\n |-- sys_domain_path: string (nullable = true)\n |-- sys_id: string (nullable = true)\n |-- sys_mod_count: long (nullable = true)\n |-- sys_tags: double (nullable = true)\n |-- sys_updated_by: string (nullable = true)\n |-- sys_updated_on: string (nullable = true)\n |-- task_effective_number: string (nullable = true)\n |-- time_worked: double (nullable = true)\n |-- universal_request: string (nullable = true)\n |-- upon_approval: string (nullable = true)\n |-- upon_reject: string (nullable = true)\n |-- urgency: string (nullable = true)\n |-- user_input: double (nullable = true)\n |-- u_change_request: double (nullable = true)\n |-- u_comment_source: double (nullable = true)\n |-- u_contact_subtype: double (nullable = true)\n |-- u_enter_phi: boolean (nullable = true)\n |-- u_expense_type: string (nullable = true)\n |-- u_first_call_resolved: boolean (nullable = true)\n |-- u_phi_viewers: string (nullable = true)\n |-- u_pi_assignment_group: double (nullable = true)\n |-- u_preferred_contact_method: string (nullable = true)\n |-- u_preferred_contact_time: string (nullable = true)\n |-- u_reported_by: string (nullable = true)\n |-- u_story: double (nullable = true)\n |-- u_substate: double (nullable = true)\n |-- u_transferred: boolean (nullable = true)\n |-- u_transferred_from: double (nullable = true)\n |-- u_transferred_to: double (nullable = true)\n |-- u_unknown_user: string (nullable = true)\n |-- u_user_not_found: boolean (nullable = true)\n |-- watch_list: string (nullable = true)\n |-- work_end: double (nullable = true)\n |-- work_notes: string (nullable = true)\n |-- work_notes_list: double (nullable = true)\n |-- work_start: double (nullable = true)\n\n"
     ]
    }
   ],
   "source": [
    "import pandas as pd\n",
    "from pyspark.sql.types import *\n",
    "\n",
    "# Read CSV file using pandas\n",
    "csv_path = \"../incidents.csv\"\n",
    "df_pandas = pd.read_csv(csv_path)\n",
    "\n",
    "# Display basic info about the dataframe\n",
    "print(f\"CSV Shape: {df_pandas.shape}\")\n",
    "print(f\"Columns: {list(df_pandas.columns)}\")\n",
    "print(\"\\nFirst few rows:\")\n",
    "print(df_pandas.head())\n",
    "\n",
    "# Convert pandas DataFrame to Spark DataFrame\n",
    "df_spark = spark.createDataFrame(df_pandas)\n",
    "\n",
    "# Display Spark DataFrame schema\n",
    "print(\"\\nSpark DataFrame Schema:\")\n",
    "df_spark.printSchema()\n",
    "\n",
    "# Create a temporary view for SQL operations\n",
    "df_spark.createOrReplaceTempView(\"temp_incidents\")"
   ]
  },
  {
   "cell_type": "code",
   "execution_count": 0,
   "metadata": {
    "application/vnd.databricks.v1+cell": {
     "cellMetadata": {
      "byteLimit": 2048000,
      "rowLimit": 10000
     },
     "inputWidgets": {},
     "nuid": "6fac950e-f8e6-4060-a127-bb8a5f4cc962",
     "showTitle": false,
     "tableResultSettingsMap": {},
     "title": ""
    }
   },
   "outputs": [],
   "source": [
    "# Define the table name\n",
    "catalog = \"prod_silver\"\n",
    "schema = \"dts_ops\"\n",
    "table_name = \"servicehub_task_displayvalue\"\n",
    "full_table_name = f\"{catalog}.{schema}.{table_name}\"\n",
    "\n",
    "# Generate CREATE TABLE statement based on the DataFrame schema\n",
    "# Get column definitions from the Spark DataFrame\n",
    "columns_with_types = []\n",
    "for field in df_spark.schema.fields:\n",
    "    # Map Spark types to SQL types\n",
    "    spark_type = field.dataType\n",
    "    \n",
    "    if isinstance(spark_type, StringType):\n",
    "        sql_type = \"STRING\"\n",
    "    elif isinstance(spark_type, IntegerType):\n",
    "        sql_type = \"INT\"\n",
    "    elif isinstance(spark_type, LongType):\n",
    "        sql_type = \"BIGINT\"\n",
    "    elif isinstance(spark_type, DoubleType):\n",
    "        sql_type = \"DOUBLE\"\n",
    "    elif isinstance(spark_type, FloatType):\n",
    "        sql_type = \"FLOAT\"\n",
    "    elif isinstance(spark_type, BooleanType):\n",
    "        sql_type = \"BOOLEAN\"\n",
    "    elif isinstance(spark_type, DateType):\n",
    "        sql_type = \"DATE\"\n",
    "    elif isinstance(spark_type, TimestampType):\n",
    "        sql_type = \"TIMESTAMP\"\n",
    "    elif isinstance(spark_type, DecimalType):\n",
    "        sql_type = f\"DECIMAL({spark_type.precision},{spark_type.scale})\"\n",
    "    else:\n",
    "        sql_type = \"STRING\"  # Default to STRING for unknown types\n",
    "    \n",
    "    # Handle column names with spaces or special characters\n",
    "    column_name = f\"`{field.name}`\" if ' ' in field.name or '-' in field.name else field.name\n",
    "    columns_with_types.append(f\"{column_name} {sql_type}\")\n",
    "\n",
    "# Create the column definition string\n",
    "columns_definition = \",\\n    \".join(columns_with_types)\n",
    "\n",
    "# Create table if not exists\n",
    "create_table_sql = f\"\"\"\n",
    "CREATE TABLE IF NOT EXISTS {full_table_name} (\n",
    "    {columns_definition}\n",
    ")\n",
    "USING DELTA\n",
    "COMMENT 'ServiceHub task display value data loaded from CSV'\n",
    "TBLPROPERTIES (\n",
    "    'delta.autoOptimize.optimizeWrite' = 'true',\n",
    "    'delta.autoOptimize.autoCompact' = 'true'\n",
    ")\n",
    "\"\"\""
   ]
  },
  {
   "cell_type": "code",
   "execution_count": 0,
   "metadata": {
    "application/vnd.databricks.v1+cell": {
     "cellMetadata": {
      "byteLimit": 2048000,
      "rowLimit": 10000
     },
     "inputWidgets": {},
     "nuid": "e02b9c47-63b5-40f3-8f78-4635311e8f1f",
     "showTitle": false,
     "tableResultSettingsMap": {},
     "title": ""
    }
   },
   "outputs": [
    {
     "output_type": "stream",
     "name": "stdout",
     "output_type": "stream",
     "text": [
      "\n==================================================\nCREATE TABLE Statement:\n==================================================\n\nCREATE TABLE IF NOT EXISTS prod_silver.dts_ops.servicehub_task_displayvalue (\n    active BOOLEAN,\n    activity_due STRING,\n    additional_assignee_list DOUBLE,\n    approval STRING,\n    approval_history DOUBLE,\n    approval_set DOUBLE,\n    assigned_to STRING,\n    assignment_group STRING,\n    business_duration STRING,\n    business_service STRING,\n    calendar_duration STRING,\n    closed_at STRING,\n    closed_by STRING,\n    close_notes STRING,\n    cmdb_ci STRING,\n    cmdb_ci_business_app DOUBLE,\n    comments STRING,\n    comments_and_work_notes STRING,\n    company STRING,\n    contact_type STRING,\n    contract DOUBLE,\n    correlation_display STRING,\n    correlation_id STRING,\n    delivery_plan DOUBLE,\n    delivery_task DOUBLE,\n    description STRING,\n    due_date DOUBLE,\n    edw_load_dts STRING,\n    edp_load_dts STRING,\n    escalation STRING,\n    expected_start DOUBLE,\n    follow_up DOUBLE,\n    group_list DOUBLE,\n    impact STRING,\n    knowledge BOOLEAN,\n    location STRING,\n    made_sla BOOLEAN,\n    number STRING,\n    opened_at STRING,\n    opened_by STRING,\n    order DOUBLE,\n    parent DOUBLE,\n    priority STRING,\n    reassignment_count BIGINT,\n    route_reason STRING,\n    service_offering DOUBLE,\n    short_description STRING,\n    skills DOUBLE,\n    sla_due STRING,\n    sn_esign_document DOUBLE,\n    sn_esign_esignature_configuration DOUBLE,\n    sn_hr_le_activity DOUBLE,\n    state STRING,\n    sys_class_name STRING,\n    sys_created_by STRING,\n    sys_created_on STRING,\n    sys_domain STRING,\n    sys_domain_path STRING,\n    sys_id STRING,\n    sys_mod_count BIGINT,\n    sys_tags DOUBLE,\n    sys_updated_by STRING,\n    sys_updated_on STRING,\n    task_effective_number STRING,\n    time_worked DOUBLE,\n    universal_request STRING,\n    upon_approval STRING,\n    upon_reject STRING,\n    urgency STRING,\n    user_input DOUBLE,\n    u_change_request DOUBLE,\n    u_comment_source DOUBLE,\n    u_contact_subtype DOUBLE,\n    u_enter_phi BOOLEAN,\n    u_expense_type STRING,\n    u_first_call_resolved BOOLEAN,\n    u_phi_viewers STRING,\n    u_pi_assignment_group DOUBLE,\n    u_preferred_contact_method STRING,\n    u_preferred_contact_time STRING,\n    u_reported_by STRING,\n    u_story DOUBLE,\n    u_substate DOUBLE,\n    u_transferred BOOLEAN,\n    u_transferred_from DOUBLE,\n    u_transferred_to DOUBLE,\n    u_unknown_user STRING,\n    u_user_not_found BOOLEAN,\n    watch_list STRING,\n    work_end DOUBLE,\n    work_notes STRING,\n    work_notes_list DOUBLE,\n    work_start DOUBLE\n)\nUSING DELTA\nCOMMENT 'ServiceHub task display value data loaded from CSV'\nTBLPROPERTIES (\n    'delta.autoOptimize.optimizeWrite' = 'true',\n    'delta.autoOptimize.autoCompact' = 'true'\n)\n\n\n✓ Table prod_silver.dts_ops.servicehub_task_displayvalue created successfully (or already exists)\n"
     ]
    }
   ],
   "source": [
    "print(\"\\n\" + \"=\"*50)\n",
    "print(\"CREATE TABLE Statement:\")\n",
    "print(\"=\"*50)\n",
    "print(create_table_sql)\n",
    "\n",
    "# Execute CREATE TABLE\n",
    "try:\n",
    "    spark.sql(create_table_sql)\n",
    "    print(f\"\\n✓ Table {full_table_name} created successfully (or already exists)\")\n",
    "except Exception as e:\n",
    "    print(f\"\\n✗ Error creating table: {str(e)}\")\n",
    "    raise"
   ]
  },
  {
   "cell_type": "markdown",
   "metadata": {
    "application/vnd.databricks.v1+cell": {
     "cellMetadata": {},
     "inputWidgets": {},
     "nuid": "dca8560e-c13d-4de8-a736-6272f2980c93",
     "showTitle": false,
     "tableResultSettingsMap": {},
     "title": ""
    }
   },
   "source": [
    "## load data"
   ]
  },
  {
   "cell_type": "code",
   "execution_count": 0,
   "metadata": {
    "application/vnd.databricks.v1+cell": {
     "cellMetadata": {
      "byteLimit": 2048000,
      "rowLimit": 10000
     },
     "inputWidgets": {},
     "nuid": "27dc8b77-ca37-4928-9ab2-b6b08606a8bd",
     "showTitle": false,
     "tableResultSettingsMap": {},
     "title": ""
    }
   },
   "outputs": [
    {
     "output_type": "stream",
     "name": "stdout",
     "output_type": "stream",
     "text": [
      "\n==================================================\nINSERT Statement (OVERWRITE):\n==================================================\n\nINSERT OVERWRITE prod_silver.dts_ops.servicehub_task_displayvalue\nSELECT * FROM temp_incidents\n\n\n✓ Data loaded successfully into prod_silver.dts_ops.servicehub_task_displayvalue\n\n✓ Verification: 50 rows loaded into the table\n\n==================================================\nSample data from loaded table:\n==================================================\n+------+------------+------------------------+-----------------+----------------+------------+---------------------+----------------------------------+-----------------+---------------------------------------+-----------------+-------------------+---------------------+--------------------------------------------------------------------------------------------------------------------------------------------------------------------------------------------------------+---------------------------------------+--------------------+--------------------------------------------------------------------------------------------+----------------------------------------------------------------------------------------------------------------------------------------------------------------------------------------------------------------------------------------------------------------------------------------------------------------------------------------------------------------------------------------------------------------------------------------------------------------------------------------------------------------------------------------------------------------------------------------------------------------------------+-----------------------+------------+--------+-------------------+--------------+-------------+-------------+-------------------------------------------------------------------------------------------------------------------------------------------------------------------------------------------------------------------------------------------------------------------------------------------------------------------------------------------------------------------------------------------------------------------------------------------------------+--------+------------------------+------------------------+----------+--------------+---------+----------+---------------+---------+---------------------+--------+----------+-------------------+---------------------+-----+------+------------+------------------+------------+----------------+----------------------------------------------------------------+------+-------+-----------------+---------------------------------+-----------------+------+--------------+--------------+------------------------+----------+---------------+--------------------------------+-------------+--------+--------------+------------------------+---------------------+-----------+-----------------+--------------------+-----------------------+---------+----------+----------------+----------------+-----------------+-----------+--------------+---------------------+---------------------+---------------------+--------------------------+------------------------+---------------------+-------+----------+-------------+------------------+----------------+--------------+----------------+----------------------+--------+----------------------------------------------------------------------------------------------------------------------------------------------------------------------------------------------------------------------------------------------------------------------------------------------------------------------------------------------------------------------------------------------------------------------------------------------------------------------------------------------------------------------------------------------------------------------------------------------------------------------------+---------------+----------+\n|active|activity_due|additional_assignee_list|approval         |approval_history|approval_set|assigned_to          |assignment_group                  |business_duration|business_service                       |calendar_duration|closed_at          |closed_by            |close_notes                                                                                                                                                                                             |cmdb_ci                                |cmdb_ci_business_app|comments                                                                                    |comments_and_work_notes                                                                                                                                                                                                                                                                                                                                                                                                                                                                                                                                                                                                     |company                |contact_type|contract|correlation_display|correlation_id|delivery_plan|delivery_task|description                                                                                                                                                                                                                                                                                                                                                                                                                                            |due_date|edw_load_dts            |edp_load_dts            |escalation|expected_start|follow_up|group_list|impact         |knowledge|location             |made_sla|number    |opened_at          |opened_by            |order|parent|priority    |reassignment_count|route_reason|service_offering|short_description                                               |skills|sla_due|sn_esign_document|sn_esign_esignature_configuration|sn_hr_le_activity|state |sys_class_name|sys_created_by|sys_created_on          |sys_domain|sys_domain_path|sys_id                          |sys_mod_count|sys_tags|sys_updated_by|sys_updated_on          |task_effective_number|time_worked|universal_request|upon_approval       |upon_reject            |urgency  |user_input|u_change_request|u_comment_source|u_contact_subtype|u_enter_phi|u_expense_type|u_first_call_resolved|u_phi_viewers        |u_pi_assignment_group|u_preferred_contact_method|u_preferred_contact_time|u_reported_by        |u_story|u_substate|u_transferred|u_transferred_from|u_transferred_to|u_unknown_user|u_user_not_found|watch_list            |work_end|work_notes                                                                                                                                                                                                                                                                                                                                                                                                                                                                                                                                                                                                                  |work_notes_list|work_start|\n+------+------------+------------------------+-----------------+----------------+------------+---------------------+----------------------------------+-----------------+---------------------------------------+-----------------+-------------------+---------------------+--------------------------------------------------------------------------------------------------------------------------------------------------------------------------------------------------------+---------------------------------------+--------------------+--------------------------------------------------------------------------------------------+----------------------------------------------------------------------------------------------------------------------------------------------------------------------------------------------------------------------------------------------------------------------------------------------------------------------------------------------------------------------------------------------------------------------------------------------------------------------------------------------------------------------------------------------------------------------------------------------------------------------------+-----------------------+------------+--------+-------------------+--------------+-------------+-------------+-------------------------------------------------------------------------------------------------------------------------------------------------------------------------------------------------------------------------------------------------------------------------------------------------------------------------------------------------------------------------------------------------------------------------------------------------------+--------+------------------------+------------------------+----------+--------------+---------+----------+---------------+---------+---------------------+--------+----------+-------------------+---------------------+-----+------+------------+------------------+------------+----------------+----------------------------------------------------------------+------+-------+-----------------+---------------------------------+-----------------+------+--------------+--------------+------------------------+----------+---------------+--------------------------------+-------------+--------+--------------+------------------------+---------------------+-----------+-----------------+--------------------+-----------------------+---------+----------+----------------+----------------+-----------------+-----------+--------------+---------------------+---------------------+---------------------+--------------------------+------------------------+---------------------+-------+----------+-------------+------------------+----------------+--------------+----------------+----------------------+--------+----------------------------------------------------------------------------------------------------------------------------------------------------------------------------------------------------------------------------------------------------------------------------------------------------------------------------------------------------------------------------------------------------------------------------------------------------------------------------------------------------------------------------------------------------------------------------------------------------------------------------+---------------+----------+\n|false |UNKNOWN     |NULL                    |Not Yet Requested|NULL            |NULL        |Ishra Shalool        |Can - Service Desk                |6 Minutes        |NULL                                   |6 Minutes        |2024-02-26 14:00:02|Ishra Shalool        |Troubleshooting: Guided caregiver to https://account.intermountain.net/Open/Resetpwd\\n                                     Helped them verify their identity and reset the password\\nIssue resolved: Yes|One Intermountain Account              |NULL                |NULL                                                                                        |2024-02-22 13:06:58 - Ishra Shalool (Work notes)\\n\\n[code]<a title=\"Password change and reset - Support instructions\" href='kb_view.do?sys_kb_id=537d8ab01ba88a14a569db91dd4bcbb4' >KB9017209 : Password change and reset - Support instructions</a>[/code]\\n\\n2024-02-22 13:00:25 - Ishra Shalool (Work notes)\\nIncident created from Interaction IMS0404108\\n\\n                                                                                                                                                                                                                                                           |IHC Health Services Inc|Phone       |NULL    |NULL               |NULL          |NULL         |NULL         |Caregiver needs to reset password for One Intermountain Account\\nReason for Reset: Forgot\\nTroubleshooting: Guided caregiver to https://account.intermountain.net/Open/Resetpwd\\n                                     Helped them verify their identity and reset the password\\nIssue resolved: Yes                                                                                                                                                    |NULL    |2024-02-26T14:00:02.000Z|2024-04-04T15:50:45.195Z|Normal    |NULL          |NULL     |NULL      |Minor/Localized|false    |Spanish Fork Hospital|true    |INC0936934|2024-02-22 13:00:25|Ishra Shalool        |NULL |NULL  |3 - Moderate|0                 |NULL        |NULL            |One Intermountain Account: Password Reset                       |NULL  |UNKNOWN|NULL             |NULL                             |NULL             |Closed|Incident      |uxy70618      |2024-02-22T13:00:25.000Z|global    |/              |00026b011be846544295c99f1d4bcbfb|3            |NULL    |system        |2024-02-26T14:00:02.000Z|UR1122933            |NULL       |UR1122933        |Proceed to Next Task|Cancel all future Tasks|Important|NULL      |NULL            |NULL            |NULL             |false      |Opex          |false                |Ishra Shalool        |NULL                 |Mobile phone              |Any time                |Ishra Shalool        |NULL   |NULL      |false        |NULL              |NULL            |NULL          |false           |Eric.Severs@imail.org |NULL    |2024-02-22 13:06:58 - Ishra Shalool (Work notes)\\n\\n[code]<a title=\"Password change and reset - Support instructions\" href='kb_view.do?sys_kb_id=537d8ab01ba88a14a569db91dd4bcbb4' >KB9017209 : Password change and reset - Support instructions</a>[/code]\\n\\n2024-02-22 13:00:25 - Ishra Shalool (Work notes)\\nIncident created from Interaction IMS0404108\\n\\n                                                                                                                                                                                                                                                           |NULL           |NULL      |\n|false |UNKNOWN     |NULL                    |Not Yet Requested|NULL            |NULL        |Navaneeth Krishnan   |Can - Service Desk                |25 Minutes       |NULL                                   |25 Minutes       |2023-11-05 12:00:00|Navaneeth Krishnan   |caregiver's daughter did not have access to the caregiver's computer \\nhence requested the caregiver's to contact the manager or reach out to the facility for password reset.                          |One Intermountain Account - Ent        |NULL                |NULL                                                                                        |2023-11-01 12:26:31 - Navaneeth Krishnan (Work notes)\\n\\n[code]<a title='LDAP- Unable to login to computer/ proxy authentication prompts on web page; Account status is good' href='kb_view.do?sys_kb_id=150932231bb17590a569db91dd4bcb44' >KB9020005 : LDAP- Unable to login to computer/ proxy authentication prompts on web page; Account status is good</a>[/code]\\n\\n2023-11-01 12:00:56 - Navaneeth Krishnan (Work notes)\\nIncident created from Interaction IMS0233474\\n\\n2023-11-01 12:00:56 - Navaneeth Krishnan (Work notes)\\nCaregiver is unable to login to the computer\\nConverting Interaction to Incident\\n\\n|IHC Health Services Inc|Phone       |NULL    |NULL               |NULL          |NULL         |NULL         |caregiver had met with an accident and her daughter was on call \\nshe says that her mom lost her memory and was unable to remember the password\\nand she wasn't to reset the caregiver's password, so that she can apply for open enrollment next year through workday \\ncaregiver's daughter did not have access to the caregiver's computer \\nhence requested the caregiver's to contact the manager or reach out to the facility for password reset.|NULL    |2023-11-05T12:00:00.000Z|2024-04-04T15:50:45.195Z|Normal    |NULL          |NULL     |NULL      |Minor/Localized|false    |World Trade Center   |true    |INC0426346|2023-11-01 12:00:56|Navaneeth Krishnan   |NULL |NULL  |4 - Low     |0                 |NULL        |NULL            |LDAP: Unable to login to computer                               |NULL  |UNKNOWN|NULL             |NULL                             |NULL             |Closed|Incident      |aps91982      |2023-11-01T12:00:56.000Z|global    |/              |000bc9f0db5ab150eb4f4e8a13961978|5            |NULL    |system        |2023-11-05T12:00:00.000Z|UR0688896            |NULL       |UR0688896        |Proceed to Next Task|Cancel all future Tasks|Normal   |NULL      |NULL            |NULL            |NULL             |false      |Opex          |false                |Navaneeth Krishnan   |NULL                 |Business phone            |Any time                |Navaneeth Krishnan   |NULL   |NULL      |false        |NULL              |NULL            |NULL          |false           |Shelly.Bowen@imail.org|NULL    |2023-11-01 12:26:31 - Navaneeth Krishnan (Work notes)\\n\\n[code]<a title='LDAP- Unable to login to computer/ proxy authentication prompts on web page; Account status is good' href='kb_view.do?sys_kb_id=150932231bb17590a569db91dd4bcb44' >KB9020005 : LDAP- Unable to login to computer/ proxy authentication prompts on web page; Account status is good</a>[/code]\\n\\n2023-11-01 12:00:56 - Navaneeth Krishnan (Work notes)\\nIncident created from Interaction IMS0233474\\n\\n2023-11-01 12:00:56 - Navaneeth Krishnan (Work notes)\\nCaregiver is unable to login to the computer\\nConverting Interaction to Incident\\n\\n|NULL           |NULL      |\n|false |UNKNOWN     |NULL                    |Not Yet Requested|NULL            |NULL        |Sathiya Hema Selvaraj|Ent - Apps TOC Tier 1             |10 Minutes       |NULL                                   |10 Minutes       |2024-01-06 13:00:00|ServiceAccount Zabbix|Auto closed by Zabbix.\\nProblem has been resolved in 10m at 12:21:40 on 2024.01.02                                                                                                                      |NULL                                   |NULL                |2024-01-02 12:22:42 - ServiceAccount Zabbix (Additional comments)\\nAuto closed by Zabbix\\n\\n|2024-01-02 12:22:42 - ServiceAccount Zabbix (Additional comments)\\nAuto closed by Zabbix\\n\\n                                                                                                                                                                                                                                                                                                                                                                                                                                                                                                                                |NULL                   |Integration |NULL    |NULL               |NULL          |NULL         |NULL         |Problem started at 12:11:39 on 2024.01.02\\r\\nEvent Severity: Medium\\r\\nOperational data: 19.51 %\\r\\nOriginal problem ID: 1186692922\\r\\n                                                                                                                                                                                                                                                                                                                |NULL    |2024-01-06T13:00:00.000Z|2024-04-04T15:50:45.195Z|Normal    |NULL          |NULL     |NULL      |Minor/Localized|false    |NULL                 |true    |INC0629752|2024-01-02 12:12:42|ServiceAccount Zabbix|NULL |NULL  |4 - Low     |0                 |NULL        |NULL            |Downtime Viewer: HMXL12344H6.CO.IHC.COM: High Memory Utilization|NULL  |UNKNOWN|NULL             |NULL                             |NULL             |Closed|Incident      |service.zabbix|2024-01-02T12:12:42.000Z|global    |/              |000ea4b01b27b1d014eac8415b4bcbeb|4            |NULL    |system        |2024-01-06T13:00:00.000Z|UR0918104            |NULL       |UR0918104        |Proceed to Next Task|Cancel all future Tasks|Normal   |NULL      |NULL            |NULL            |NULL             |false      |Opex          |false                |Sathiya Hema Selvaraj|NULL                 |NULL                      |NULL                    |ServiceAccount Zabbix|NULL   |NULL      |false        |NULL              |NULL            |NULL          |false           |NULL                  |NULL    |NULL                                                                                                                                                                                                                                                                                                                                                                                                                                                                                                                                                                                                                        |NULL           |NULL      |\n|false |UNKNOWN     |NULL                    |Not Yet Requested|NULL            |NULL        |NULL                 |Ent - Apps TOC Tier 1             |4 Minutes        |NULL                                   |4 Minutes        |2023-12-29 18:00:00|ServiceAccount Zabbix|Auto closed by Zabbix.\\nProblem has been resolved in 5m at 17:31:08 on 2023.12.25                                                                                                                       |NULL                                   |NULL                |2023-12-25 17:31:16 - ServiceAccount Zabbix (Additional comments)\\nAuto closed by Zabbix\\n\\n|2023-12-25 17:31:16 - ServiceAccount Zabbix (Additional comments)\\nAuto closed by Zabbix\\n\\n                                                                                                                                                                                                                                                                                                                                                                                                                                                                                                                                |NULL                   |Integration |NULL    |NULL               |NULL          |NULL         |NULL         |Problem started at 17:26:08 on 2023.12.25\\r\\nEvent Severity: Medium\\r\\nOperational data: 19.99 %\\r\\nOriginal problem ID: 1182242335\\r\\n                                                                                                                                                                                                                                                                                                                |NULL    |2023-12-29T18:00:00.000Z|2024-04-04T15:50:45.195Z|Normal    |NULL          |NULL     |NULL      |Minor/Localized|false    |NULL                 |true    |INC0613200|2023-12-25 17:26:20|ServiceAccount Zabbix|NULL |NULL  |4 - Low     |0                 |NULL        |NULL            |Downtime Viewer: HMXL2075KF9.CO.IHC.COM: High Memory Utilization|NULL  |UNKNOWN|NULL             |NULL                             |NULL             |Closed|Incident      |service.zabbix|2023-12-25T17:26:20.000Z|global    |/              |0019ac1e1bd7795014eac8415b4bcb01|3            |NULL    |system        |2023-12-29T18:00:00.000Z|UR0895784            |NULL       |UR0895784        |Proceed to Next Task|Cancel all future Tasks|Normal   |NULL      |NULL            |NULL            |NULL             |false      |Opex          |false                |NULL                 |NULL                 |NULL                      |NULL                    |ServiceAccount Zabbix|NULL   |NULL      |false        |NULL              |NULL            |NULL          |false           |NULL                  |NULL    |NULL                                                                                                                                                                                                                                                                                                                                                                                                                                                                                                                                                                                                                        |NULL           |NULL      |\n|false |UNKNOWN     |NULL                    |Not Yet Requested|NULL            |NULL        |Gregorio Arreola     |Can - Online Services Service Desk|1 Minute         |Patient Portal (pka MyHealth+) - CanDes|1 Minute         |2023-10-03 11:00:01|Gregorio Arreola     |She was not using the correct username.\\nSent link to reset the password. \\nShe could sign in after resetting the password.                                                                             |Patient Portal (pka MyHealth+) - CanDes|NULL                |NULL                                                                                        |NULL                                                                                                                                                                                                                                                                                                                                                                                                                                                                                                                                                                                                                        |NULL                   |Walk-in     |NULL    |NULL               |NULL          |NULL         |NULL         |Mother is calling on behalf her 18 years old son (he gave permission) and is not receiving email to reset the password. \\n\\n                                                                                                                                                                                                                                                                                                                           |NULL    |2023-10-03T11:00:01.000Z|2024-04-04T15:50:45.195Z|Normal    |NULL          |NULL     |NULL      |Minor/Localized|false    |NULL                 |true    |INC0308104|2023-09-29 10:27:07|Gregorio Arreola     |NULL |NULL  |4 - Low     |0                 |NULL        |NULL            |MH+ Forgotten username/password                                 |NULL  |UNKNOWN|NULL             |NULL                             |NULL             |Closed|Incident      |garreola      |2023-09-29T10:28:23.000Z|global    |/              |0019b2c21be17514f379b8cc1d4bcb2f|3            |NULL    |system        |2023-10-03T11:00:01.000Z|UR0565807            |NULL       |UR0565807        |Proceed to Next Task|Cancel all future Tasks|Normal   |NULL      |NULL            |NULL            |NULL             |true       |Opex          |false                |Gregorio Arreola     |NULL                 |Mobile phone              |NULL                    |Gregorio Arreola     |NULL   |NULL      |false        |NULL              |NULL            |OLS Customer  |true            |NULL                  |NULL    |NULL                                                                                                                                                                                                                                                                                                                                                                                                                                                                                                                                                                                                                        |NULL           |NULL      |\n+------+------------+------------------------+-----------------+----------------+------------+---------------------+----------------------------------+-----------------+---------------------------------------+-----------------+-------------------+---------------------+--------------------------------------------------------------------------------------------------------------------------------------------------------------------------------------------------------+---------------------------------------+--------------------+--------------------------------------------------------------------------------------------+----------------------------------------------------------------------------------------------------------------------------------------------------------------------------------------------------------------------------------------------------------------------------------------------------------------------------------------------------------------------------------------------------------------------------------------------------------------------------------------------------------------------------------------------------------------------------------------------------------------------------+-----------------------+------------+--------+-------------------+--------------+-------------+-------------+-------------------------------------------------------------------------------------------------------------------------------------------------------------------------------------------------------------------------------------------------------------------------------------------------------------------------------------------------------------------------------------------------------------------------------------------------------+--------+------------------------+------------------------+----------+--------------+---------+----------+---------------+---------+---------------------+--------+----------+-------------------+---------------------+-----+------+------------+------------------+------------+----------------+----------------------------------------------------------------+------+-------+-----------------+---------------------------------+-----------------+------+--------------+--------------+------------------------+----------+---------------+--------------------------------+-------------+--------+--------------+------------------------+---------------------+-----------+-----------------+--------------------+-----------------------+---------+----------+----------------+----------------+-----------------+-----------+--------------+---------------------+---------------------+---------------------+--------------------------+------------------------+---------------------+-------+----------+-------------+------------------+----------------+--------------+----------------+----------------------+--------+----------------------------------------------------------------------------------------------------------------------------------------------------------------------------------------------------------------------------------------------------------------------------------------------------------------------------------------------------------------------------------------------------------------------------------------------------------------------------------------------------------------------------------------------------------------------------------------------------------------------------+---------------+----------+\n\n"
     ]
    }
   ],
   "source": [
    "insert_sql = f\"\"\"\n",
    "INSERT OVERWRITE {full_table_name}\n",
    "SELECT * FROM temp_incidents\n",
    "\"\"\"\n",
    "\n",
    "print(\"\\n\" + \"=\"*50)\n",
    "print(\"INSERT Statement (OVERWRITE):\")\n",
    "print(\"=\"*50)\n",
    "print(insert_sql)\n",
    "\n",
    "try:\n",
    "    result = spark.sql(insert_sql)\n",
    "    print(f\"\\n✓ Data loaded successfully into {full_table_name}\")\n",
    "except Exception as e:\n",
    "    print(f\"\\n✗ Error loading data: {str(e)}\")\n",
    "    raise\n",
    "\n",
    "# Verify the data load\n",
    "count_sql = f\"SELECT COUNT(*) as row_count FROM {full_table_name}\"\n",
    "result = spark.sql(count_sql)\n",
    "row_count = result.collect()[0]['row_count']\n",
    "print(f\"\\n✓ Verification: {row_count} rows loaded into the table\")\n",
    "\n",
    "# Show sample data from the loaded table\n",
    "print(\"\\n\" + \"=\"*50)\n",
    "print(\"Sample data from loaded table:\")\n",
    "print(\"=\"*50)\n",
    "sample_sql = f\"SELECT * FROM {full_table_name} LIMIT 5\"\n",
    "spark.sql(sample_sql).show(truncate=False)"
   ]
  },
  {
   "cell_type": "markdown",
   "metadata": {
    "application/vnd.databricks.v1+cell": {
     "cellMetadata": {},
     "inputWidgets": {},
     "nuid": "e1d1dfc9-0158-48e3-9ac7-84d6322ea9f4",
     "showTitle": false,
     "tableResultSettingsMap": {},
     "title": ""
    }
   },
   "source": [
    "## generate function in UC"
   ]
  },
  {
   "cell_type": "code",
   "execution_count": 0,
   "metadata": {
    "application/vnd.databricks.v1+cell": {
     "cellMetadata": {
      "byteLimit": 2048000,
      "rowLimit": 10000
     },
     "inputWidgets": {},
     "nuid": "d7037fc7-feb0-494f-b1ba-f5199cd3e8a7",
     "showTitle": false,
     "tableResultSettingsMap": {},
     "title": ""
    }
   },
   "outputs": [
    {
     "output_type": "stream",
     "name": "stdout",
     "output_type": "stream",
     "text": [
      "============================================================\nCreating Unity Catalog SQL Function\n============================================================\nFunction Name: prod_silver.dts_ops.get_incident_info\n============================================================\nSQL Statement:\n\nCREATE OR REPLACE FUNCTION prod_silver.dts_ops.get_incident_info(incident_number STRING)\nRETURNS STRING\nLANGUAGE SQL\nDETERMINISTIC\nCOMMENT 'Returns formatted incident information for a given incident number'\nRETURN (\n    SELECT \n        MAX(\n            COALESCE(\n                CONCAT(\n                    'Opened By:\\n', opened_by,\n                    '\\n\\nOpened At:\\n', opened_at,\n                    '\\n\\nShort Description:\\n', short_description,\n                    '\\n\\nDescription:\\n', description,\n                    '\\n\\nEscalation:\\n', escalation,\n                    '\\n\\nImpact:\\n', impact,\n                    '\\n\\nLocation:\\n', location,\n                    '\\n\\nPriority:\\n', priority\n                ),\n                ''\n            )\n        ) AS incident_info\n    FROM \n        prod_silver.dts_ops.servicehub_task_displayvalue\n    WHERE \n        sys_class_name = 'Incident'\n        AND number = incident_number\n)\n\n============================================================\n\n✓ Function prod_silver.dts_ops.get_incident_info created successfully!\n"
     ]
    }
   ],
   "source": [
    "# Define function parameters\n",
    "catalog = \"prod_silver\"\n",
    "schema = \"dts_ops\"\n",
    "function_name = \"get_incident_info\"\n",
    "full_function_name = f\"{catalog}.{schema}.{function_name}\"\n",
    "\n",
    "# First, drop the function if it exists (optional - uncomment if needed)\n",
    "drop_function_sql = f\"\"\"\n",
    "DROP FUNCTION IF EXISTS {full_function_name}\n",
    "\"\"\"\n",
    "\n",
    "# Uncomment the following lines if you want to drop and recreate the function\n",
    "# print(\"Dropping existing function if it exists...\")\n",
    "# try:\n",
    "#     spark.sql(drop_function_sql)\n",
    "#     print(f\"✓ Function {full_function_name} dropped (if existed)\")\n",
    "# except Exception as e:\n",
    "#     print(f\"Note: {str(e)}\")\n",
    "\n",
    "# Create the SQL function\n",
    "create_function_sql = f\"\"\"\n",
    "CREATE OR REPLACE FUNCTION {full_function_name}(incident_number STRING)\n",
    "RETURNS STRING\n",
    "LANGUAGE SQL\n",
    "DETERMINISTIC\n",
    "COMMENT 'Returns formatted incident information for a given incident number'\n",
    "RETURN (\n",
    "    SELECT \n",
    "        MAX(\n",
    "            COALESCE(\n",
    "                CONCAT(\n",
    "                    'Opened By:\\\\n', opened_by,\n",
    "                    '\\\\n\\\\nOpened At:\\\\n', opened_at,\n",
    "                    '\\\\n\\\\nShort Description:\\\\n', short_description,\n",
    "                    '\\\\n\\\\nDescription:\\\\n', description,\n",
    "                    '\\\\n\\\\nEscalation:\\\\n', escalation,\n",
    "                    '\\\\n\\\\nImpact:\\\\n', impact,\n",
    "                    '\\\\n\\\\nLocation:\\\\n', location,\n",
    "                    '\\\\n\\\\nPriority:\\\\n', priority\n",
    "                ),\n",
    "                ''\n",
    "            )\n",
    "        ) AS incident_info\n",
    "    FROM \n",
    "        {catalog}.{schema}.servicehub_task_displayvalue\n",
    "    WHERE \n",
    "        sys_class_name = 'Incident'\n",
    "        AND number = incident_number\n",
    ")\n",
    "\"\"\"\n",
    "\n",
    "print(\"=\"*60)\n",
    "print(\"Creating Unity Catalog SQL Function\")\n",
    "print(\"=\"*60)\n",
    "print(f\"Function Name: {full_function_name}\")\n",
    "print(\"=\"*60)\n",
    "print(\"SQL Statement:\")\n",
    "print(create_function_sql)\n",
    "print(\"=\"*60)\n",
    "\n",
    "# Execute the CREATE FUNCTION statement\n",
    "try:\n",
    "    spark.sql(create_function_sql)\n",
    "    print(f\"\\n✓ Function {full_function_name} created successfully!\")\n",
    "except Exception as e:\n",
    "    print(f\"\\n✗ Error creating function: {str(e)}\")\n",
    "    raise"
   ]
  },
  {
   "cell_type": "code",
   "execution_count": 0,
   "metadata": {
    "application/vnd.databricks.v1+cell": {
     "cellMetadata": {},
     "inputWidgets": {},
     "nuid": "489ca75c-d2fd-4593-8e9a-fe760cb6f445",
     "showTitle": false,
     "tableResultSettingsMap": {},
     "title": ""
    }
   },
   "outputs": [],
   "source": []
  }
 ],
 "metadata": {
  "application/vnd.databricks.v1+notebook": {
   "computePreferences": {
    "hardware": {
     "accelerator": null,
     "gpuPoolId": null,
     "memory": null
    }
   },
   "dashboards": [],
   "environmentMetadata": {
    "base_environment": "",
    "environment_version": "2"
   },
   "inputWidgetPreferences": null,
   "language": "python",
   "notebookMetadata": {
    "mostRecentlyExecutedCommandWithImplicitDF": {
     "commandId": -1,
     "dataframes": [
      "_sqldf"
     ]
    },
    "pythonIndentUnit": 2
   },
   "notebookName": "UC Tool",
   "widgets": {}
  },
  "language_info": {
   "name": "python"
  }
 },
 "nbformat": 4,
 "nbformat_minor": 0
}